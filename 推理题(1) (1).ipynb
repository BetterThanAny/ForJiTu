{
 "cells": [
  {
   "cell_type": "markdown",
   "metadata": {},
   "source": [
    "推理题： 抓了a,b,c,d四名犯罪嫌疑人，其中有一人是小偷，审讯中： a说：我不是小偷 b说：c是小偷 c说：小偷肯定是d d说：c胡说 其中有三个人说的是实话，一个人说的是假话。请用python编程推断谁是小偷"
   ]
  },
  {
   "cell_type": "code",
   "execution_count": 15,
   "metadata": {},
   "outputs": [
    {
     "name": "stdout",
     "output_type": "stream",
     "text": [
      "c是小偷\n"
     ]
    }
   ],
   "source": [
    "for a in [True, False]:\n",
    "    for b in [True, False]:\n",
    "        for c in [True, False]:\n",
    "            for d in [True, False]:\n",
    "                # 判断说真话的人数\n",
    "                # truths = sum([a, b==c, d==c, not d])\n",
    "                truths = sum([not a, c==True, d==True, d== False])\n",
    "                if truths == 3 and sum([a, b, c, d]) == 1:\n",
    "                    # 输出结果\n",
    "                    thief = 'a' if a else 'b' if b else 'c' if c else 'd'\n",
    "                    print(f'{thief}是小偷')"
   ]
  },
  {
   "cell_type": "code",
   "execution_count": 10,
   "metadata": {},
   "outputs": [
    {
     "name": "stdout",
     "output_type": "stream",
     "text": [
      "c是小偷\n"
     ]
    }
   ],
   "source": [
    "for thief in ['a', 'b', 'c', 'd']:\n",
    "    truths = 0\n",
    "    if thief != 'a':\n",
    "        truths += 1\n",
    "    if thief == 'c':\n",
    "        truths += 1\n",
    "    if thief == 'd':\n",
    "        truths += 1\n",
    "    if thief != 'd':\n",
    "        truths += 1\n",
    "    if truths == 3:\n",
    "        print(f'{thief}是小偷')\n",
    "        break"
   ]
  }
 ],
 "metadata": {
  "kernelspec": {
   "display_name": "base",
   "language": "python",
   "name": "python3"
  },
  "language_info": {
   "codemirror_mode": {
    "name": "ipython",
    "version": 3
   },
   "file_extension": ".py",
   "mimetype": "text/x-python",
   "name": "python",
   "nbconvert_exporter": "python",
   "pygments_lexer": "ipython3",
   "version": "3.9.12"
  }
 },
 "nbformat": 4,
 "nbformat_minor": 2
}
