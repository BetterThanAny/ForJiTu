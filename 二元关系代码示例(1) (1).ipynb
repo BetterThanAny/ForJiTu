{
 "cells": [
  {
   "cell_type": "markdown",
   "metadata": {},
   "source": [
    "# 二元关系\n",
    "## 二元关系的判定\n",
    "需要下载numpy\n",
    "``` shell\n",
    "pip install numpy\n",
    "```\n",
    "numpy 官方手册\n",
    "https://numpy.org/doc/stable/reference/index.html\n",
    "\n",
    "在下文的示例中, 二元关系用矩阵A表示, $A[i][j] = 1 $ 代表存在二元关系 $(i, j)$,  $A[i][j] = 0 $ 代表不存在二元关系 $(i, j)$."
   ]
  },
  {
   "cell_type": "code",
   "execution_count": 2,
   "metadata": {},
   "outputs": [
    {
     "name": "stdout",
     "output_type": "stream",
     "text": [
      "自反性: 是\n",
      "反自反性: 否\n",
      "对称性: 是\n",
      "反对称性: 否\n",
      "传递性: 否\n"
     ]
    }
   ],
   "source": [
    "import numpy as np\n",
    "\n",
    "def check_properties(matrix):\n",
    "    n = len(matrix)\n",
    "    \n",
    "    # 自反性\n",
    "    is_reflexive = np.all(np.diag(matrix) == 1)\n",
    "    \n",
    "    # 反自反性\n",
    "    is_irreflexive = np.all(np.diag(matrix) == 0)\n",
    "    \n",
    "    # 对称性\n",
    "    is_symmetric = np.all(matrix == matrix.T)\n",
    "    \n",
    "    # 反对称性\n",
    "    is_antisymmetric = np.all((matrix == 0) | (matrix.T == 0) | (np.eye(n) == 1))\n",
    "    \n",
    "    # 传递性 思考一下为什么?\n",
    "    is_transitive = np.all((matrix @ matrix) <= matrix)\n",
    "\n",
    "    \n",
    "    return {\n",
    "        \"自反性\": is_reflexive,\n",
    "        \"反自反性\": is_irreflexive,\n",
    "        \"对称性\": is_symmetric,\n",
    "        \"反对称性\": is_antisymmetric,\n",
    "        \"传递性\": is_transitive\n",
    "    }\n",
    "\n",
    "# 示例矩阵\n",
    "matrix = np.array([\n",
    "    [1, 0, 1],\n",
    "    [0, 1, 0],\n",
    "    [1, 0, 1]\n",
    "])\n",
    "\n",
    "# 检查属性\n",
    "properties = check_properties(matrix)\n",
    "for prop, value in properties.items():\n",
    "    print(f\"{prop}: {'是' if value else '否'}\")"
   ]
  },
  {
   "cell_type": "markdown",
   "metadata": {},
   "source": [
    "## 计算二元关系闭包"
   ]
  },
  {
   "cell_type": "code",
   "execution_count": 7,
   "metadata": {},
   "outputs": [
    {
     "name": "stdout",
     "output_type": "stream",
     "text": [
      "自反闭包:\n",
      "[[1 1 0]\n",
      " [0 1 0]\n",
      " [1 0 1]]\n",
      "对称闭包:\n",
      "[[1 1 1]\n",
      " [1 1 0]\n",
      " [1 0 0]]\n",
      "传递闭包:\n",
      "[[1 1 0]\n",
      " [0 1 0]\n",
      " [1 1 0]]\n"
     ]
    }
   ],
   "source": [
    "def reflexive_closure(matrix):\n",
    "    \"\"\"计算自反闭包\"\"\"\n",
    "    closure = matrix.copy()\n",
    "    np.fill_diagonal(closure, 1)\n",
    "    return closure\n",
    "\n",
    "def symmetric_closure(matrix):\n",
    "    \"\"\"计算对称闭包\"\"\"\n",
    "    closure = matrix.copy()\n",
    "    closure = np.maximum(closure, closure.T)\n",
    "    return closure\n",
    "\n",
    "def transitive_closure(matrix):\n",
    "    \"\"\"计算传递闭包\"\"\"\n",
    "    n = len(matrix)\n",
    "    closure = matrix.copy()\n",
    "    for _ in range(n):\n",
    "        closure_new = np.minimum(closure @ closure, 1)\n",
    "        if np.array_equal(closure, closure_new):\n",
    "            break\n",
    "        closure = closure_new\n",
    "    return closure\n",
    "\n",
    "matrix = np.array([\n",
    "    [1, 1, 0],\n",
    "    [0, 1, 0],\n",
    "    [1, 0, 0]\n",
    "])\n",
    "\n",
    "reflexive_closure_matrix = reflexive_closure(matrix)\n",
    "symmetric_closure_matrix = symmetric_closure(matrix)\n",
    "transitive_closure_matrix = transitive_closure(matrix)\n",
    "\n",
    "print(\"自反闭包:\")\n",
    "print(reflexive_closure_matrix)\n",
    "print(\"对称闭包:\")\n",
    "print(symmetric_closure_matrix)\n",
    "print(\"传递闭包:\")\n",
    "print(transitive_closure_matrix)"
   ]
  }
 ],
 "metadata": {
  "kernelspec": {
   "display_name": ".venv",
   "language": "python",
   "name": "python3"
  },
  "language_info": {
   "codemirror_mode": {
    "name": "ipython",
    "version": 3
   },
   "file_extension": ".py",
   "mimetype": "text/x-python",
   "name": "python",
   "nbconvert_exporter": "python",
   "pygments_lexer": "ipython3",
   "version": "3.10.12"
  }
 },
 "nbformat": 4,
 "nbformat_minor": 2
}
