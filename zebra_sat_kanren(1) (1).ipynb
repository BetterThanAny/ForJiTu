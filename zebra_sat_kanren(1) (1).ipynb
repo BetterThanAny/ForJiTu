{
 "cells": [
  {
   "cell_type": "code",
   "execution_count": null,
   "metadata": {},
   "outputs": [],
   "source": [
    "https://blog.csdn.net/szm_00000000/article/details/137284718"
   ]
  },
  {
   "cell_type": "code",
   "execution_count": null,
   "metadata": {},
   "outputs": [],
   "source": [
    "!pip install kanren"
   ]
  },
  {
   "cell_type": "code",
   "execution_count": 1,
   "metadata": {},
   "outputs": [
    {
     "name": "stdout",
     "output_type": "stream",
     "text": [
      "\n",
      "绿色房子里的人养斑马\n",
      "黄色房子里的人喜欢喝矿泉水\n",
      "('挪威人', '外交官', '矿泉水', '狐狸', '黄色')\n",
      "('意大利人', '医生', '茶', '马', '蓝色')\n",
      "('英国人', '摄影师', '牛奶', '蜗牛', '红色')\n",
      "('西班牙人', '小提琴家', '橘子汁', '狗', '白色')\n",
      "('日本人', '油漆工', '咖啡', '斑马', '绿色')\n"
     ]
    }
   ],
   "source": [
    "from kanren import run, eq, membero, var, conde  # kanren一个描述性Python逻辑编程系统\n",
    "from kanren.core import lall  # lall包用于定义规则\n",
    "import time\n",
    "def left(q, p, list):\n",
    "    return membero((q, p), zip(list, list[1:]))\n",
    "def right_of(q, p, list):\n",
    "    return left(p, q, list)\n",
    "def next_to(q, p, list):\n",
    "    return conde([left(q, p, list)], [right_of(q, p, list)])\n",
    "class Agent:\n",
    "    \"\"\"\n",
    "    推理智能体.\n",
    "    \"\"\"\n",
    "    def __init__(self):\n",
    "        \"\"\"\n",
    "        智能体初始化.\n",
    "        \"\"\"\n",
    "        self.units = var()  # 单个unit变量指代一座房子的信息(国家，工作，饮料，宠物，颜色)\n",
    "        # 例如('英国人', '油漆工', '茶', '狗', '红色')即为正确格式，但不是本题答案\n",
    "        # 请基于给定的逻辑提示求解五条正确的答案\n",
    "        self.rules_zebraproblem = None  # 用lall包定义逻辑规则\n",
    "        self.solutions = None  # 存储结果\n",
    "    def define_rules(self):\n",
    "        \"\"\"\n",
    "        定义逻辑规则.\n",
    "        \"\"\"\n",
    "        self.rules_zebraproblem = lall(\n",
    "            (eq, (var(), var(), var(), var(), var()), self.units),\n",
    "            # self.units共包含五个unit成员，即每一个unit对应的var都指代一座房子(国家，工作，饮料，宠物，颜色)\n",
    "            # 各个unit房子又包含五个成员属性: (国家，工作，饮料，宠物，颜色)\n",
    "            (membero, ('英国人', var(), var(), var(), '红色'), self.units),  # Clue 1\n",
    "            (membero, ('西班牙人', var(), var(), '狗', var()), self.units),  # Clue 2\n",
    "            (membero, ('日本人', '油漆工', var(), var(), var()), self.units),  # Clue 3\n",
    "            (membero, ('意大利人', var(), '茶', var(), var()), self.units),  # Clue 4\n",
    "            (eq, (('挪威人', var(), var(), var(), var()), var(), var(), var(), var()), self.units),  # Clue 5\n",
    "            (right_of, (var(), var(), var(), var(), '绿色'), (var(), var(), var(), var(), '白色'),self.units),\n",
    "            # Clue 6\n",
    "            (membero, (var(), '摄影师', var(), '蜗牛', var()), self.units),  # Clue 7\n",
    "            (membero, (var(), '外交官', var(), var(), '黄色'), self.units),  # Clue 8\n",
    "            (eq, (var(), var(), (var(), var(), '牛奶', var(), var()), var(), var()), self.units),  # Clue 9\n",
    "            (membero, (var(), var(), '咖啡', var(), '绿色'), self.units),  # Clue 10\n",
    "            (next_to, ('挪威人', var(), var(), var(), var()), (var(), var(), var(), var(), '蓝色'), self.units),\n",
    "            # Clue 11\n",
    "            (membero, (var(), '小提琴家', '橘子汁', var(), var()), self.units),  # Clue 12\n",
    "            (next_to, (var(), var(), var(), '狐狸', var()), (var(), '医生', var(), var(), var()), self.units),\n",
    "            # Clue 13\n",
    "            (next_to, (var(), var(), var(), '马', var()), (var(), '外交官', var(), var(), var()), self.units), # Clue 14\n",
    "            (membero, (var(), var(), '矿泉水', var(), var()), self.units),  # Clue 15\n",
    "            (membero, (var(), var(), var(), '斑马', var()), self.units),  # Clue 16\n",
    "        )\n",
    "    def solve(self):\n",
    "        \"\"\"\n",
    "        规则求解器\n",
    "        return: 斑马规则求解器给出的答案，共包含五条匹配信息，解唯一.\n",
    "        \"\"\"\n",
    " \n",
    "        self.define_rules()\n",
    "        self.solutions = run(0, self.units, self.rules_zebraproblem)\n",
    "        return self.solutions\n",
    "if __name__ == '__main__':\n",
    "    agent = Agent()\n",
    "    solutions = agent.solve()\n",
    "    # 提取解释器的输出\n",
    "    output = [house for house in solutions[0] if '斑马' in house][0][4]\n",
    "    print('\\n{}房子里的人养斑马'.format(output))\n",
    "    output = [house for house in solutions[0] if '矿泉水' in house][0][4]\n",
    "    print('{}房子里的人喜欢喝矿泉水'.format(output))\n",
    "    # 解释器的输出结果展示\n",
    "    for i in solutions[0]:\n",
    "        print(i)"
   ]
  }
 ],
 "metadata": {
  "kernelspec": {
   "display_name": "base",
   "language": "python",
   "name": "python3"
  },
  "language_info": {
   "codemirror_mode": {
    "name": "ipython",
    "version": 3
   },
   "file_extension": ".py",
   "mimetype": "text/x-python",
   "name": "python",
   "nbconvert_exporter": "python",
   "pygments_lexer": "ipython3",
   "version": "3.9.12"
  }
 },
 "nbformat": 4,
 "nbformat_minor": 2
}
