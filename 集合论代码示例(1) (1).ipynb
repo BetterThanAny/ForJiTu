{
 "cells": [
  {
   "cell_type": "markdown",
   "metadata": {},
   "source": [
    "## 集合的定义\n",
    "- python的集合（set）是一个无序的、不重复元素、可变的序列。\n",
    "- 集合使用大括号{}或者set()函数创建。"
   ]
  },
  {
   "cell_type": "code",
   "execution_count": 1,
   "metadata": {},
   "outputs": [
    {
     "name": "stdout",
     "output_type": "stream",
     "text": [
      "<class 'set'>\n"
     ]
    }
   ],
   "source": [
    "setB = {'color','name'}\n",
    "print(type(setB))"
   ]
  },
  {
   "cell_type": "code",
   "execution_count": 2,
   "metadata": {},
   "outputs": [
    {
     "name": "stdout",
     "output_type": "stream",
     "text": [
      "<class 'set'>\n"
     ]
    }
   ],
   "source": [
    "setC = set(['color','name'])\n",
    "print(type(setC))"
   ]
  },
  {
   "cell_type": "markdown",
   "metadata": {},
   "source": [
    "## 集合的无序性"
   ]
  },
  {
   "cell_type": "code",
   "execution_count": 3,
   "metadata": {},
   "outputs": [
    {
     "name": "stdout",
     "output_type": "stream",
     "text": [
      "{'apple', 'orange', 'banana', 'pear'}\n"
     ]
    }
   ],
   "source": [
    "# 打印结果：元素顺序是不一致的\n",
    "setB = { 'orange', 'apple', 'pear', 'banana'}\n",
    "print(setB)"
   ]
  },
  {
   "cell_type": "markdown",
   "metadata": {},
   "source": [
    "- 集合底层采用的是哈希表结构，集合的元素都是可以使用内置函数hash()得到一个整数值。"
   ]
  },
  {
   "cell_type": "code",
   "execution_count": 4,
   "metadata": {},
   "outputs": [
    {
     "name": "stdout",
     "output_type": "stream",
     "text": [
      "1367781304116710933\n",
      "2856105194635106033\n"
     ]
    }
   ],
   "source": [
    "# 比如集合中的元素为字符串，hash值如下\n",
    "print(hash('orange'))\n",
    "print(hash('apple'))"
   ]
  },
  {
   "cell_type": "markdown",
   "metadata": {},
   "source": [
    "- 但有些常用的数据类型，比如列表list、字典dict是可变的，不是可哈希的对象，是不能添加为集合元素的。"
   ]
  },
  {
   "cell_type": "code",
   "execution_count": 5,
   "metadata": {},
   "outputs": [
    {
     "ename": "TypeError",
     "evalue": "unhashable type: 'list'",
     "output_type": "error",
     "traceback": [
      "\u001b[1;31m---------------------------------------------------------------------------\u001b[0m",
      "\u001b[1;31mTypeError\u001b[0m                                 Traceback (most recent call last)",
      "\u001b[1;32md:\\Lynne\\dblab\\集合论.ipynb Cell 9\u001b[0m line \u001b[0;36m2\n\u001b[0;32m      <a href='vscode-notebook-cell:/d%3A/Lynne/dblab/%E9%9B%86%E5%90%88%E8%AE%BA.ipynb#X14sZmlsZQ%3D%3D?line=0'>1</a>\u001b[0m \u001b[39m# 添加列表到集合会报错\u001b[39;00m\n\u001b[1;32m----> <a href='vscode-notebook-cell:/d%3A/Lynne/dblab/%E9%9B%86%E5%90%88%E8%AE%BA.ipynb#X14sZmlsZQ%3D%3D?line=1'>2</a>\u001b[0m setB\u001b[39m.\u001b[39;49madd([\u001b[39m1\u001b[39;49m,\u001b[39m2\u001b[39;49m,\u001b[39m3\u001b[39;49m])\n",
      "\u001b[1;31mTypeError\u001b[0m: unhashable type: 'list'"
     ]
    }
   ],
   "source": [
    "# 添加列表到集合会报错\n",
    "setB.add([1,2,3])"
   ]
  },
  {
   "cell_type": "code",
   "execution_count": 6,
   "metadata": {},
   "outputs": [
    {
     "ename": "TypeError",
     "evalue": "unhashable type: 'dict'",
     "output_type": "error",
     "traceback": [
      "\u001b[1;31m---------------------------------------------------------------------------\u001b[0m",
      "\u001b[1;31mTypeError\u001b[0m                                 Traceback (most recent call last)",
      "\u001b[1;32md:\\Lynne\\dblab\\集合论.ipynb Cell 10\u001b[0m line \u001b[0;36m2\n\u001b[0;32m      <a href='vscode-notebook-cell:/d%3A/Lynne/dblab/%E9%9B%86%E5%90%88%E8%AE%BA.ipynb#X15sZmlsZQ%3D%3D?line=0'>1</a>\u001b[0m \u001b[39m# 添加字典到集合会报错\u001b[39;00m\n\u001b[1;32m----> <a href='vscode-notebook-cell:/d%3A/Lynne/dblab/%E9%9B%86%E5%90%88%E8%AE%BA.ipynb#X15sZmlsZQ%3D%3D?line=1'>2</a>\u001b[0m setB\u001b[39m.\u001b[39;49madd({\u001b[39m'\u001b[39;49m\u001b[39mkey\u001b[39;49m\u001b[39m'\u001b[39;49m:\u001b[39m'\u001b[39;49m\u001b[39mvalue\u001b[39;49m\u001b[39m'\u001b[39;49m})\n",
      "\u001b[1;31mTypeError\u001b[0m: unhashable type: 'dict'"
     ]
    }
   ],
   "source": [
    "# 添加字典到集合会报错\n",
    "setB.add({'key':'value'})"
   ]
  },
  {
   "cell_type": "code",
   "execution_count": 7,
   "metadata": {},
   "outputs": [
    {
     "name": "stdout",
     "output_type": "stream",
     "text": [
      "{'banana', 'apple', 'orange', 'pear', (1, 23, 2)}\n"
     ]
    }
   ],
   "source": [
    "# 但是可添加元组到集合，因为元组是不可变数据类型\n",
    "setB.add((1,23,2))\n",
    "print(setB)"
   ]
  },
  {
   "cell_type": "markdown",
   "metadata": {},
   "source": [
    "## 集合的去重\n",
    "- 集合内的元素是不重复的，所以往往用于列表、元组的去重。"
   ]
  },
  {
   "cell_type": "code",
   "execution_count": 8,
   "metadata": {},
   "outputs": [
    {
     "name": "stdout",
     "output_type": "stream",
     "text": [
      "{'apple', 'orange', 'banana', 'pear'}\n"
     ]
    }
   ],
   "source": [
    "listA = ['orange', 'apple', 'pear', 'banana', 'orange']\n",
    "listB = set(listA)\n",
    "print(listB)"
   ]
  },
  {
   "cell_type": "code",
   "execution_count": 9,
   "metadata": {},
   "outputs": [
    {
     "name": "stdout",
     "output_type": "stream",
     "text": [
      "['orange', 'apple', 'pear', 'banana']\n"
     ]
    }
   ],
   "source": [
    "# 去重以后列表内的元素位置被更新\n",
    "# 可以通过有序字典collections.OrderedDict.fromkeys()功能，对列表去重并保持有序\n",
    "from collections import OrderedDict\n",
    "listC = list(OrderedDict.fromkeys(listA))\n",
    "print(listC)"
   ]
  },
  {
   "cell_type": "markdown",
   "metadata": {},
   "source": [
    "## 集合推导式\n",
    "- 集合与列表/字典类似，也有自己的推导式，结构如下：\n",
    "- {表达式 for 变量 in 列表 if 条件} 其中if条件可有可无"
   ]
  },
  {
   "cell_type": "code",
   "execution_count": 10,
   "metadata": {},
   "outputs": [
    {
     "name": "stdout",
     "output_type": "stream",
     "text": [
      "setB 数据类型：<class 'set'> 内容：{'jams', 'lili', 'yhan'}\n"
     ]
    }
   ],
   "source": [
    "setA = {'tom','lili','joy','yhan','jams'}\n",
    "# 通过集合推导式从集合中获取姓名为4个字母的名字\n",
    "setB = {name for name in setA if len(name)==4}\n",
    "print(f'setB 数据类型：{type(setB)} 内容：{setB}')"
   ]
  },
  {
   "cell_type": "markdown",
   "metadata": {},
   "source": [
    "## 集合的内置函数\n",
    "#### 添加元素\n",
    "- set.add()和set.update()区别是set.add()只能添加单个元素，而set.update()可添加多个元素，传入的参数必须是可迭代对象，比如列表/元组/字符串等。"
   ]
  },
  {
   "cell_type": "code",
   "execution_count": 12,
   "metadata": {},
   "outputs": [
    {
     "name": "stdout",
     "output_type": "stream",
     "text": [
      "{'joy', 'wang', 'tom', 'jams', 'lili', 'yhan'}\n"
     ]
    }
   ],
   "source": [
    "setA = {'tom','lili','joy','yhan','jams'}\n",
    "# 添加单个元素\n",
    "setA.add('wang')\n",
    "print(setA)"
   ]
  },
  {
   "cell_type": "code",
   "execution_count": 13,
   "metadata": {},
   "outputs": [
    {
     "name": "stdout",
     "output_type": "stream",
     "text": [
      "{'key', 'lei', 'tom', 'ren', 'jams', 'lili', 'joy', 'yhan', 'wang', 'xu'}\n"
     ]
    }
   ],
   "source": [
    "# 添加多个可迭代对象的元素\n",
    "setA.update(['wang','lei'],('xu','ren'),{'key':'value'})\n",
    "print(setA)"
   ]
  },
  {
   "cell_type": "markdown",
   "metadata": {},
   "source": [
    "#### 移除元素\n",
    "- set.remove(元素) 集合中无该元素会报错\n",
    "- set.discard(元素) 集合中无该元素不会报错\n",
    "- set.pop() 随机移除集合中的元素\n",
    "#### 删除集合\n",
    "- 使用del A删除集合A\n",
    "#### 清空集合\n",
    "- 使用set.clear()移除所有元素，清空集合\n",
    "#### 集合合并\n",
    "- 使用A.union(B) 返回一个新集合"
   ]
  },
  {
   "cell_type": "code",
   "execution_count": 14,
   "metadata": {},
   "outputs": [
    {
     "name": "stdout",
     "output_type": "stream",
     "text": [
      "{'12', 'lili', 'yellow', 'age', 'color', 'name'}\n"
     ]
    }
   ],
   "source": [
    "setA = {\"name\",\"age\",\"color\"}\n",
    "setB = {\"lili\",\"12\",\"yellow\"}\n",
    "setC = setA.union(setB)\n",
    "print(setC)"
   ]
  },
  {
   "cell_type": "markdown",
   "metadata": {},
   "source": [
    "#### 集合获取交集\n",
    "- set.intersection(set1,set2,......) 方法用于返回两个或更多集合中都包含的元素，参数可添加多个集合，并返回新集合"
   ]
  },
  {
   "cell_type": "code",
   "execution_count": 15,
   "metadata": {},
   "outputs": [
    {
     "name": "stdout",
     "output_type": "stream",
     "text": [
      "setA内容不变:{'age', 'color', 'name'}\n",
      "setB内容不变:{'12', 'yellow', 'name'}\n",
      "setC新集合:{'name'}\n"
     ]
    }
   ],
   "source": [
    "setA = {\"name\",\"age\",\"color\"}\n",
    "setB = {\"name\",\"12\",\"yellow\"}\n",
    "# 判断setA和setB中都存在的元素，并返回setC\n",
    "setC = setA.intersection(setB)\n",
    "print(f'setA内容不变:{setA}')\n",
    "print(f'setB内容不变:{setB}')\n",
    "print(f'setC新集合:{setC}')"
   ]
  },
  {
   "cell_type": "markdown",
   "metadata": {},
   "source": [
    "- set.intersection_update(set1,set2,......) 方法用于返回两个或更多集合中都包含的元素，参数可添加多个集合，修改原集合，函数结果不返回新集合"
   ]
  },
  {
   "cell_type": "code",
   "execution_count": 16,
   "metadata": {},
   "outputs": [
    {
     "name": "stdout",
     "output_type": "stream",
     "text": [
      "setA内容变化:{'name'}\n",
      "setB内容不变:{'12', 'yellow', 'name'}\n",
      "不返回新集合，setC为None\n"
     ]
    }
   ],
   "source": [
    "setA = {\"name\",\"age\",\"color\"}\n",
    "setB = {\"name\",\"12\",\"yellow\"}\n",
    "# 判断setA和setB中都存在的元素，setA集合内容会更新\n",
    "setC = setA.intersection_update(setB)\n",
    "print(f'setA内容变化:{setA}')\n",
    "print(f'setB内容不变:{setB}')\n",
    "print(f'不返回新集合，setC为{setC}')"
   ]
  },
  {
   "cell_type": "markdown",
   "metadata": {},
   "source": [
    "#### 集合获取差集\n",
    "- set.difference(set1,set2,......) 方法用于返回集合的差集，即返回的集合元素包含在要判断的集合中，但不包含在其他集合(方法的参数)中，参数可添加多个集合，并返回新集合"
   ]
  },
  {
   "cell_type": "code",
   "execution_count": 17,
   "metadata": {},
   "outputs": [
    {
     "name": "stdout",
     "output_type": "stream",
     "text": [
      "setA内容不变:{'age', 'color', 'name'}\n",
      "setB内容不变:{'12', 'yellow', 'name'}\n",
      "setC内容不变:{'12', 'age', 'yellow'}\n",
      "返回新集合，setD为{'color'}\n"
     ]
    }
   ],
   "source": [
    "setA = {\"name\",\"age\",\"color\"}\n",
    "setB = {\"name\",\"12\",\"yellow\"}\n",
    "setC = {\"age\",\"12\",\"yellow\"}\n",
    "# 取差集\n",
    "setD = setA.difference(setB,setC)\n",
    "print(f'setA内容不变:{setA}')\n",
    "print(f'setB内容不变:{setB}')\n",
    "print(f'setC内容不变:{setC}')\n",
    "print(f'返回新集合，setD为{setD}')"
   ]
  },
  {
   "cell_type": "markdown",
   "metadata": {},
   "source": [
    "- set.difference_update(set1,set2,......) 用于返回集合的差集，即返回的集合元素包含在要判断的集合中，但不包含在其他集合(方法的参数)中，该方法修改原集合，函数结果不返回新集合"
   ]
  },
  {
   "cell_type": "code",
   "execution_count": 19,
   "metadata": {},
   "outputs": [
    {
     "name": "stdout",
     "output_type": "stream",
     "text": [
      "setA内容变化:{'color'}\n",
      "setB内容不变:{'12', 'yellow', 'name'}\n",
      "setC内容不变:{'12', 'age', 'yellow'}\n",
      "不返回新集合，setD为None\n"
     ]
    }
   ],
   "source": [
    "setA = {\"name\",\"age\",\"color\"}\n",
    "setB = {\"name\",\"12\",\"yellow\"}\n",
    "setC = {\"age\",\"12\",\"yellow\"}\n",
    "setD = setA.difference_update(setB,setC)\n",
    "print(f'setA内容变化:{setA}')\n",
    "print(f'setB内容不变:{setB}')\n",
    "print(f'setC内容不变:{setC}')\n",
    "print(f'不返回新集合，setD为{setD}')"
   ]
  },
  {
   "cell_type": "markdown",
   "metadata": {},
   "source": [
    "## 容斥原理\n",
    "- 容斥原理是在组合数学中用来计算并集大小的一种技巧。它特别适用于求解至少满足一个条件的对象数量的问题。"
   ]
  },
  {
   "cell_type": "code",
   "execution_count": 21,
   "metadata": {},
   "outputs": [
    {
     "name": "stdout",
     "output_type": "stream",
     "text": [
      "5\n"
     ]
    }
   ],
   "source": [
    "from itertools import combinations\n",
    "\n",
    "def inclusion_exclusion(principle_sets):\n",
    "    \"\"\"\n",
    "    使用容斥原理计算多个集合的并集大小。\n",
    "\n",
    "    参数:\n",
    "    principle_sets (list of set): 一个包含多个集合的列表。\n",
    "\n",
    "    返回:\n",
    "    int: 并集的大小。\n",
    "    \"\"\"\n",
    "\n",
    "    def intersection_size(sets):\n",
    "        \"\"\"计算集合的交集大小\"\"\"\n",
    "        if not sets:\n",
    "            return 0\n",
    "        common = set.intersection(*sets)\n",
    "        return len(common)\n",
    "\n",
    "    total = 0\n",
    "    n = len(principle_sets)\n",
    "    for r in range(1, n + 1):\n",
    "        for subset in combinations(principle_sets, r):\n",
    "            total += (-1)**(r + 1) * intersection_size(subset)\n",
    "    return total\n",
    "\n",
    "sets = [\n",
    "    set([1, 2, 3]),\n",
    "    set([2, 3, 4]),\n",
    "    set([3, 4, 5])\n",
    "]\n",
    "print(inclusion_exclusion(sets))"
   ]
  },
  {
   "cell_type": "markdown",
   "metadata": {},
   "source": [
    "## 集合的幂集\n",
    "- 原集合中所有的子集（包括全集和空集）构成的集族。"
   ]
  },
  {
   "cell_type": "code",
   "execution_count": 22,
   "metadata": {},
   "outputs": [
    {
     "name": "stdout",
     "output_type": "stream",
     "text": [
      "[]\n",
      "[3]\n",
      "[2]\n",
      "[2, 3]\n",
      "[1]\n",
      "[1, 3]\n",
      "[1, 2]\n",
      "[1, 2, 3]\n"
     ]
    }
   ],
   "source": [
    "def powerset_recursion(elements):\n",
    "    if len(elements) == 0:\n",
    "        return [[]]\n",
    "    else:\n",
    "        # 递归地构建剩余元素的幂集\n",
    "        rest_powerset = powerset_recursion(elements[1:])\n",
    "        # 对于当前元素，它可以加入到已有的每个子集中\n",
    "        with_current = [[elements[0]] + subset for subset in rest_powerset]\n",
    "        # 幂集是包含当前元素的子集和不包含当前元素的子集的并集\n",
    "        return rest_powerset + with_current\n",
    "\n",
    "elements = [1, 2, 3]\n",
    "for subset in powerset_recursion(elements):\n",
    "    print(subset)"
   ]
  }
 ],
 "metadata": {
  "kernelspec": {
   "display_name": "NetworkX",
   "language": "python",
   "name": "python3"
  },
  "language_info": {
   "codemirror_mode": {
    "name": "ipython",
    "version": 3
   },
   "file_extension": ".py",
   "mimetype": "text/x-python",
   "name": "python",
   "nbconvert_exporter": "python",
   "pygments_lexer": "ipython3",
   "version": "3.11.0"
  }
 },
 "nbformat": 4,
 "nbformat_minor": 2
}
