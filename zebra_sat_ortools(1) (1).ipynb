{
  "nbformat": 4,
  "nbformat_minor": 0,
  "metadata": {
    "colab": {
      "provenance": []
    },
    "kernelspec": {
      "name": "python3",
      "display_name": "Python 3"
    },
    "language_info": {
      "name": "python"
    }
  },
  "cells": [
    {
      "cell_type": "code",
      "execution_count": 1,
      "metadata": {
        "colab": {
          "base_uri": "https://localhost:8080/"
        },
        "id": "dL9Y95en3HHH",
        "outputId": "b1228752-52bc-406f-d5fd-ce4797651e4b"
      },
      "outputs": [
        {
          "output_type": "stream",
          "name": "stdout",
          "text": [
            "Collecting ortools\n",
            "  Downloading ortools-9.10.4067-cp310-cp310-manylinux_2_17_x86_64.manylinux2014_x86_64.whl.metadata (2.9 kB)\n",
            "Collecting absl-py>=2.0.0 (from ortools)\n",
            "  Downloading absl_py-2.1.0-py3-none-any.whl.metadata (2.3 kB)\n",
            "Requirement already satisfied: numpy>=1.13.3 in /usr/local/lib/python3.10/dist-packages (from ortools) (1.26.4)\n",
            "Requirement already satisfied: pandas>=2.0.0 in /usr/local/lib/python3.10/dist-packages (from ortools) (2.1.4)\n",
            "Collecting protobuf>=5.26.1 (from ortools)\n",
            "  Downloading protobuf-5.28.0-cp38-abi3-manylinux2014_x86_64.whl.metadata (592 bytes)\n",
            "Requirement already satisfied: immutabledict>=3.0.0 in /usr/local/lib/python3.10/dist-packages (from ortools) (4.2.0)\n",
            "Requirement already satisfied: python-dateutil>=2.8.2 in /usr/local/lib/python3.10/dist-packages (from pandas>=2.0.0->ortools) (2.8.2)\n",
            "Requirement already satisfied: pytz>=2020.1 in /usr/local/lib/python3.10/dist-packages (from pandas>=2.0.0->ortools) (2024.1)\n",
            "Requirement already satisfied: tzdata>=2022.1 in /usr/local/lib/python3.10/dist-packages (from pandas>=2.0.0->ortools) (2024.1)\n",
            "Requirement already satisfied: six>=1.5 in /usr/local/lib/python3.10/dist-packages (from python-dateutil>=2.8.2->pandas>=2.0.0->ortools) (1.16.0)\n",
            "Downloading ortools-9.10.4067-cp310-cp310-manylinux_2_17_x86_64.manylinux2014_x86_64.whl (26.7 MB)\n",
            "\u001b[2K   \u001b[90m━━━━━━━━━━━━━━━━━━━━━━━━━━━━━━━━━━━━━━━━\u001b[0m \u001b[32m26.7/26.7 MB\u001b[0m \u001b[31m20.3 MB/s\u001b[0m eta \u001b[36m0:00:00\u001b[0m\n",
            "\u001b[?25hDownloading absl_py-2.1.0-py3-none-any.whl (133 kB)\n",
            "\u001b[2K   \u001b[90m━━━━━━━━━━━━━━━━━━━━━━━━━━━━━━━━━━━━━━━━\u001b[0m \u001b[32m133.7/133.7 kB\u001b[0m \u001b[31m7.5 MB/s\u001b[0m eta \u001b[36m0:00:00\u001b[0m\n",
            "\u001b[?25hDownloading protobuf-5.28.0-cp38-abi3-manylinux2014_x86_64.whl (316 kB)\n",
            "\u001b[2K   \u001b[90m━━━━━━━━━━━━━━━━━━━━━━━━━━━━━━━━━━━━━━━━\u001b[0m \u001b[32m316.6/316.6 kB\u001b[0m \u001b[31m15.9 MB/s\u001b[0m eta \u001b[36m0:00:00\u001b[0m\n",
            "\u001b[?25hInstalling collected packages: protobuf, absl-py, ortools\n",
            "  Attempting uninstall: protobuf\n",
            "    Found existing installation: protobuf 3.20.3\n",
            "    Uninstalling protobuf-3.20.3:\n",
            "      Successfully uninstalled protobuf-3.20.3\n",
            "  Attempting uninstall: absl-py\n",
            "    Found existing installation: absl-py 1.4.0\n",
            "    Uninstalling absl-py-1.4.0:\n",
            "      Successfully uninstalled absl-py-1.4.0\n",
            "\u001b[31mERROR: pip's dependency resolver does not currently take into account all the packages that are installed. This behaviour is the source of the following dependency conflicts.\n",
            "cudf-cu12 24.4.1 requires protobuf<5,>=3.20, but you have protobuf 5.28.0 which is incompatible.\n",
            "google-ai-generativelanguage 0.6.6 requires protobuf!=3.20.0,!=3.20.1,!=4.21.0,!=4.21.1,!=4.21.2,!=4.21.3,!=4.21.4,!=4.21.5,<5.0.0dev,>=3.19.5, but you have protobuf 5.28.0 which is incompatible.\n",
            "google-cloud-bigquery-storage 2.25.0 requires protobuf!=3.20.0,!=3.20.1,!=4.21.0,!=4.21.1,!=4.21.2,!=4.21.3,!=4.21.4,!=4.21.5,<5.0.0dev,>=3.19.5, but you have protobuf 5.28.0 which is incompatible.\n",
            "google-cloud-datastore 2.19.0 requires protobuf!=3.20.0,!=3.20.1,!=4.21.0,!=4.21.1,!=4.21.2,!=4.21.3,!=4.21.4,!=4.21.5,<5.0.0dev,>=3.19.5, but you have protobuf 5.28.0 which is incompatible.\n",
            "google-cloud-firestore 2.16.1 requires protobuf!=3.20.0,!=3.20.1,!=4.21.0,!=4.21.1,!=4.21.2,!=4.21.3,!=4.21.4,!=4.21.5,<5.0.0dev,>=3.19.5, but you have protobuf 5.28.0 which is incompatible.\n",
            "tensorboard 2.17.0 requires protobuf!=4.24.0,<5.0.0,>=3.19.6, but you have protobuf 5.28.0 which is incompatible.\n",
            "tensorflow 2.17.0 requires protobuf!=4.21.0,!=4.21.1,!=4.21.2,!=4.21.3,!=4.21.4,!=4.21.5,<5.0.0dev,>=3.20.3, but you have protobuf 5.28.0 which is incompatible.\n",
            "tensorflow-metadata 1.15.0 requires protobuf<4.21,>=3.20.3; python_version < \"3.11\", but you have protobuf 5.28.0 which is incompatible.\u001b[0m\u001b[31m\n",
            "\u001b[0mSuccessfully installed absl-py-2.1.0 ortools-9.10.4067 protobuf-5.28.0\n"
          ]
        }
      ],
      "source": [
        "!pip install ortools\n"
      ]
    },
    {
      "cell_type": "code",
      "source": [
        "from ortools.sat.python import cp_model"
      ],
      "metadata": {
        "id": "Deh3TNEw4B9e"
      },
      "execution_count": 4,
      "outputs": []
    },
    {
      "cell_type": "code",
      "source": [
        "def solve_zebra():\n",
        "    \"\"\"Solves the zebra problem.\"\"\"\n",
        "\n",
        "    # Create the model.\n",
        "    model = cp_model.CpModel()\n",
        "\n",
        "    red = model.NewIntVar(1, 5, 'red')\n",
        "    green = model.NewIntVar(1, 5, 'green')\n",
        "    yellow = model.NewIntVar(1, 5, 'yellow')\n",
        "    blue = model.NewIntVar(1, 5, 'blue')\n",
        "    ivory = model.NewIntVar(1, 5, 'ivory')\n",
        "\n",
        "    englishman = model.NewIntVar(1, 5, 'englishman')\n",
        "    spaniard = model.NewIntVar(1, 5, 'spaniard')\n",
        "    japanese = model.NewIntVar(1, 5, 'japanese')\n",
        "    ukrainian = model.NewIntVar(1, 5, 'ukrainian')\n",
        "    norwegian = model.NewIntVar(1, 5, 'norwegian')\n",
        "\n",
        "    dog = model.NewIntVar(1, 5, 'dog')\n",
        "    snails = model.NewIntVar(1, 5, 'snails')\n",
        "    fox = model.NewIntVar(1, 5, 'fox')\n",
        "    zebra = model.NewIntVar(1, 5, 'zebra')\n",
        "    horse = model.NewIntVar(1, 5, 'horse')\n",
        "\n",
        "    tea = model.NewIntVar(1, 5, 'tea')\n",
        "    coffee = model.NewIntVar(1, 5, 'coffee')\n",
        "    water = model.NewIntVar(1, 5, 'water')\n",
        "    milk = model.NewIntVar(1, 5, 'milk')\n",
        "    fruit_juice = model.NewIntVar(1, 5, 'fruit juice')\n",
        "\n",
        "    old_gold = model.NewIntVar(1, 5, 'old gold')\n",
        "    kools = model.NewIntVar(1, 5, 'kools')\n",
        "    chesterfields = model.NewIntVar(1, 5, 'chesterfields')\n",
        "    lucky_strike = model.NewIntVar(1, 5, 'lucky strike')\n",
        "    parliaments = model.NewIntVar(1, 5, 'parliaments')\n",
        "\n",
        "    model.AddAllDifferent(red, green, yellow, blue, ivory)\n",
        "    model.AddAllDifferent(englishman, spaniard, japanese, ukrainian, norwegian)\n",
        "    model.AddAllDifferent(dog, snails, fox, zebra, horse)\n",
        "    model.AddAllDifferent(tea, coffee, water, milk, fruit_juice)\n",
        "    model.AddAllDifferent(parliaments, kools, chesterfields, lucky_strike,\n",
        "                          old_gold)\n",
        "\n",
        "    model.Add(englishman == red)\n",
        "    model.Add(spaniard == dog)\n",
        "    model.Add(coffee == green)\n",
        "    model.Add(ukrainian == tea)\n",
        "    model.Add(green == ivory + 1)\n",
        "    model.Add(old_gold == snails)\n",
        "    model.Add(kools == yellow)\n",
        "    model.Add(milk == 3)\n",
        "    model.Add(norwegian == 1)\n",
        "\n",
        "    diff_fox_chesterfields = model.NewIntVar(-4, 4, 'diff_fox_chesterfields')\n",
        "    model.Add(diff_fox_chesterfields == fox - chesterfields)\n",
        "    model.AddAbsEquality(1, diff_fox_chesterfields)\n",
        "\n",
        "    diff_horse_kools = model.NewIntVar(-4, 4, 'diff_horse_kools')\n",
        "    model.Add(diff_horse_kools == horse - kools)\n",
        "    model.AddAbsEquality(1, diff_horse_kools)\n",
        "\n",
        "    model.Add(lucky_strike == fruit_juice)\n",
        "    model.Add(japanese == parliaments)\n",
        "\n",
        "    diff_norwegian_blue = model.NewIntVar(-4, 4, 'diff_norwegian_blue')\n",
        "    model.Add(diff_norwegian_blue == norwegian - blue)\n",
        "    model.AddAbsEquality(1, diff_norwegian_blue)\n",
        "\n",
        "    # Solve and print out the solution.\n",
        "    solver = cp_model.CpSolver()\n",
        "    status = solver.Solve(model)\n",
        "\n",
        "    if status == cp_model.OPTIMAL:\n",
        "        people = [englishman, spaniard, japanese, ukrainian, norwegian]\n",
        "        water_drinker = [\n",
        "            p for p in people if solver.Value(p) == solver.Value(water)\n",
        "        ][0]\n",
        "        zebra_owner = [\n",
        "            p for p in people if solver.Value(p) == solver.Value(zebra)\n",
        "        ][0]\n",
        "        print('The', water_drinker.Name(), 'drinks water.')\n",
        "        print('The', zebra_owner.Name(), 'owns the zebra.')\n",
        "    else:\n",
        "        print('No solutions to the zebra problem, this is unusual!')\n"
      ],
      "metadata": {
        "id": "yiZxIqpr316t"
      },
      "execution_count": 5,
      "outputs": []
    },
    {
      "cell_type": "code",
      "source": [
        "solve_zebra()"
      ],
      "metadata": {
        "colab": {
          "base_uri": "https://localhost:8080/"
        },
        "id": "Embys7K839gO",
        "outputId": "d714a2b7-c024-4534-a576-87668c8a539d"
      },
      "execution_count": 6,
      "outputs": [
        {
          "output_type": "stream",
          "name": "stdout",
          "text": [
            "The norwegian drinks water.\n",
            "The japanese owns the zebra.\n"
          ]
        }
      ]
    }
  ]
}